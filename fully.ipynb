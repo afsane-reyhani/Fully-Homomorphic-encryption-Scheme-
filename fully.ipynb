{
 "cells": [
  {
   "cell_type": "code",
   "execution_count": 1,
   "metadata": {},
   "outputs": [],
   "source": [
    "import random\n",
    "import numpy as np\n",
    "import math"
   ]
  },
  {
   "cell_type": "markdown",
   "metadata": {},
   "source": [
    "## $\\lfloor \\frac{a}{b} \\rceil$   Gives the nearest integer to $\\frac{a}{b}$"
   ]
  },
  {
   "cell_type": "code",
   "execution_count": 2,
   "metadata": {},
   "outputs": [],
   "source": [
    "def QuotientNear(a,b):\n",
    "    return (2*a+b)//(2*b)"
   ]
  },
  {
   "cell_type": "markdown",
   "metadata": {},
   "source": [
    "## $ a \\quad mod \\quad b = a - b \\lfloor \\frac{a}{b} \\rceil $  Computes a mod b with $a \\in [\\frac{-b}{2},\\frac{b}{2}]$"
   ]
  },
  {
   "cell_type": "code",
   "execution_count": 3,
   "metadata": {},
   "outputs": [],
   "source": [
    "def modNear(a,b):\n",
    "    return a-b*QuotientNear(a,b)"
   ]
  },
  {
   "cell_type": "markdown",
   "metadata": {},
   "source": [
    "## $ a \\quad mod \\quad b = a - b \\lfloor \\frac{a}{b} \\rceil $  Computes a mod b with $a \\in [\\frac{-b}{2},\\frac{b}{2}]$ a=list ,b=number"
   ]
  },
  {
   "cell_type": "code",
   "execution_count": 4,
   "metadata": {},
   "outputs": [],
   "source": [
    "def mNear(a,b):\n",
    "    e=[]\n",
    "    for i in a:\n",
    "        e.append(QuotientNear(i,b))\n",
    "       # print(e)\n",
    "    return np.subtract(a,np.multiply(b,e))"
   ]
  },
  {
   "cell_type": "markdown",
   "metadata": {},
   "source": [
    "## $ c \\quad mod \\quad p$"
   ]
  },
  {
   "cell_type": "code",
   "execution_count": 5,
   "metadata": {},
   "outputs": [],
   "source": [
    "def mod(c, p):\n",
    "    return c % p"
   ]
  },
  {
   "cell_type": "markdown",
   "metadata": {},
   "source": [
    "#  parameters and generate key"
   ]
  },
  {
   "cell_type": "code",
   "execution_count": 6,
   "metadata": {},
   "outputs": [],
   "source": [
    "def key_generation(λ):\n",
    "# in the security parameter λ\n",
    "     λ=int(input(\"input integer number\"))\n",
    "     print(\"λ\" , λ)\n",
    "# eta  is the bit-length of the secret key\n",
    "     eta = (math.log(λ))*(λ)*((math.log(λ)**2))\n",
    "     eta =QuotientNear(eta,1)\n",
    "     eta = int(eta)\n",
    "     print(\"eta\",eta)\n",
    "# ρ is the bit-length of the noise\n",
    "     ρ =math.log(λ)\n",
    "     ρ =QuotientNear(ρ,1)\n",
    "     ρ = int(ρ)\n",
    "     print(\"ρ\",ρ)\n",
    "# γ is the bit-length of the integers in the public key\n",
    "     γ = ((eta)**2) * math.log(λ)\n",
    "     γ = QuotientNear(γ,1)\n",
    "     γ = int(γ)\n",
    "     print(\"γ\",γ)\n",
    "# τ is the number of integers in the public key\n",
    "     τ =  γ + math.log(λ)\n",
    "     τ = QuotientNear(τ,1)\n",
    "     τ= int(τ)\n",
    "     print(\"τ\",τ)\n",
    "# secondary noise parameter ρρ\n",
    "     ρρ = math.log(λ)+math.log(λ)\n",
    "     ρρ = QuotientNear(ρρ,1)\n",
    "     ρρ = int(ρρ)\n",
    "     print('ρρ', ρρ)\n",
    "# κ bits of precision\n",
    "     k = (γ * eta)//ρρ\n",
    "     k = QuotientNear(k,1)\n",
    "     k = int(k)\n",
    "     print('κ',k)\n",
    "# teta hamming whight\n",
    "     teta = λ\n",
    "     teta=QuotientNear(teta,1)\n",
    "     teta = int(teta)\n",
    "     print('teta',teta)\n",
    "# tetaa \n",
    "     tetaa = k*math.log(λ)\n",
    "     tetaa = QuotientNear(tetaa,1)\n",
    "     tetaa = int(tetaa)\n",
    "     print('tetaa',tetaa)\n",
    "     print(\"Random integer from 2^(eta-1) to 2^(eta)\")\n",
    "     p = random.randint(2**(eta-1), 2**(eta))\n",
    "     while p % 2 == 0:\n",
    "                           p = random.randint((eta-1), 2**(eta))\n",
    "     print(\"secret key: \", p)\n",
    "    ## return p\n",
    "     x_0 = 2\n",
    "     while x_0 % 2==0 or (x_0 % p)%2 !=0:\n",
    "                           q = []\n",
    "                           r= []\n",
    "                           for i in range(0, τ):\n",
    "                                q.append(random.randint(0, 2**γ//p))\n",
    "                          # r= []\n",
    "                          # for i in range(0, int(τ)):\n",
    "                                r.append(random.randint(-2**ρ,2**ρ))\n",
    "                           s = np.multiply(p,q) \n",
    "                           x = np.add(s,r)\n",
    "                           x =list(x)\n",
    "                           x_0=max(x)                    \n",
    "     print(\"x_0\" , x_0)\n",
    "     print(\"public key\" , x )\n",
    "     x_p = QuotientNear(2**k,p)\n",
    "     print(x_p)\n",
    "     a = np.ones(teta , dtype='int64')\n",
    "     #print(a)\n",
    "     b = np.zeros(tetaa-teta ,dtype='int64')\n",
    "     #print(b)\n",
    "     s = np.hstack((a,b))\n",
    "     s=list(s)\n",
    "     U =0\n",
    "     #while U % (2**(k+1)) != x_p:\n",
    "     s = random.sample(s, tetaa)\n",
    "     S = np.nonzero(s)\n",
    "     S=S[0]\n",
    "     S=list(S)\n",
    "     u = []\n",
    "     for i in range (0,tetaa):\n",
    "        u_i = random.randint(0,2**(k+1))\n",
    "        u.append(u_i)\n",
    "     U =0\n",
    "     for i in S:\n",
    "        U = u[i]+U\n",
    "     Y=[]\n",
    "     for i in range (0,tetaa):\n",
    "        y_i = u[i]/(2**k)\n",
    "        Y.append(y_i)\n",
    "     print(Y)\n",
    "     e = 0\n",
    "     Sum =0\n",
    "     for i in range (0,tetaa):\n",
    "         Sum = s[i]*u[i]+Sum\n",
    "         a = Sum % 2\n",
    "         b = 1/p - 2**(-k)\n",
    "     if a - b <e:\n",
    "         print(True)\n",
    "     else:\n",
    "         print(False)\n",
    "     return λ,eta,ρ,γ,τ,ρρ,p,x_0,x,x_p,s,S,Y,teta,tetaa"
   ]
  },
  {
   "cell_type": "markdown",
   "metadata": {},
   "source": [
    "# generate list plain text"
   ]
  },
  {
   "cell_type": "code",
   "execution_count": 7,
   "metadata": {},
   "outputs": [],
   "source": [
    "def plaintext(n):\n",
    "    n = int(input(\"Enter number of elements : \"))\n",
    "    m = np.random.randint(0,2,n)\n",
    "    print('plaintext' ,m)\n",
    "    return m"
   ]
  },
  {
   "cell_type": "markdown",
   "metadata": {},
   "source": [
    "# encryption"
   ]
  },
  {
   "cell_type": "code",
   "execution_count": 8,
   "metadata": {},
   "outputs": [],
   "source": [
    "def encryption(m,x,τ,ρρ,x_0,Y):\n",
    "    m = list(m)\n",
    "# creating an empty list \n",
    "    sampled = [] \n",
    "    rr= []\n",
    "# iterating till the range \n",
    "    for i in range(0, len(m)): \n",
    "         ele =  random.sample(list(x), random.randint(1,τ))\n",
    "         ele = sum(ele)\n",
    "         sampled.append(ele) # adding the element \n",
    "  #  rr= []\n",
    "   # for i in range(0, len(m)):\n",
    "         rr.append(random.randint(-2**ρρ,2**ρρ))\n",
    "   # print(rr)\n",
    "    b  = np.multiply(2,sampled) \n",
    "    bb = np.multiply(2,rr)\n",
    "    bbb = np.add(list(b),list(bb))\n",
    "    bbbb = np.add(m,list(bbb))\n",
    "    c= mNear(bbbb,x_0)\n",
    "    c = list(c)\n",
    "    print(\"ciphertext\" , c)\n",
    "    Z=[]\n",
    "    for i in c:\n",
    "         # print(i)\n",
    "          z_i = ((np.multiply(i,Y)) % 2)\n",
    "          #print(z_i)\n",
    "         # print(type(z_i))\n",
    "          Z.append(z_i)\n",
    "    return c , Z"
   ]
  },
  {
   "cell_type": "markdown",
   "metadata": {},
   "source": [
    "# decryption"
   ]
  },
  {
   "cell_type": "code",
   "execution_count": 9,
   "metadata": {},
   "outputs": [],
   "source": [
    "def decryptin(c,S,Z):\n",
    "    L=list(S)\n",
    "    D = []\n",
    "    for i in  range (0,len(c)):\n",
    "            H=list(Z[i])\n",
    "            g=0\n",
    "            for j  in L:\n",
    "                  g=g+H[j]\n",
    "            g = QuotientNear(g,1)\n",
    "            D.append(g)\n",
    "    d = np.subtract(c,D)\n",
    "    d = d % 2\n",
    "    print(\"Decryption\",d)\n",
    "    return d"
   ]
  },
  {
   "cell_type": "markdown",
   "metadata": {},
   "source": [
    "# error decryption"
   ]
  },
  {
   "cell_type": "code",
   "execution_count": 10,
   "metadata": {},
   "outputs": [],
   "source": [
    "def error(D,m):\n",
    "    m=list(m)\n",
    "    xx = np.add(D,m)\n",
    "    xxx  = xx % 2\n",
    "    x  = list(xxx)\n",
    "    error=sum(x)\n",
    "    print('error', error)"
   ]
  },
  {
   "cell_type": "markdown",
   "metadata": {},
   "source": [
    "# evalute multi  bit sum"
   ]
  },
  {
   "cell_type": "code",
   "execution_count": 11,
   "metadata": {},
   "outputs": [],
   "source": [
    "def sume(c,tetaa,m,Z,S):\n",
    "    m=list(m)\n",
    "    esum= sum(c)\n",
    "    ZZZ = np.zeros(tetaa)\n",
    "    ZZ=list(ZZZ)\n",
    "    for i in Z:\n",
    "        sumevalute = np.add(ZZ,i) \n",
    "        ZZ=sumevalute\n",
    "    esum=list([esum])\n",
    "    ZZ=list(ZZ)\n",
    "    ZZ=[(ZZ)]\n",
    "    d=decryptin(esum,S,ZZ)\n",
    "    print(\"SUMe\",d)\n",
    "    mm=sum(list(m))\n",
    "    dd=mm % 2\n",
    "    print(\"SUMm\" , dd)"
   ]
  },
  {
   "cell_type": "markdown",
   "metadata": {},
   "source": [
    "#  evalute multi  list sum"
   ]
  },
  {
   "cell_type": "code",
   "execution_count": 12,
   "metadata": {},
   "outputs": [],
   "source": [
    "def multilistsum(x,τ,ρρ,x_0,Y,S,tetaa):\n",
    "    k = int(input(\"Enter number of lists : \"))\n",
    "    n = int(input(\"Enter number of elements : \"))\n",
    "    m=[]\n",
    "    for i in range(0,k):\n",
    "        mmm = np.random.randint(0,2,n)\n",
    "        mm=list(mmm)\n",
    "        m.append(mm)\n",
    "    c=[]\n",
    "    Z=[]\n",
    "    for i in m:\n",
    "        j=encryption(i,x,τ,ρρ,x_0,Y)\n",
    "        cc=j[0]\n",
    "        zz=j[1]\n",
    "        #cc=list(cc)\n",
    "        c.append(cc)\n",
    "        Z.append(zz)\n",
    "    hhh=np.zeros(n)\n",
    "    hh=list(hhh)\n",
    "    for i in c:\n",
    "        sumciphertext=np.add(hh,i)\n",
    "        hh=sumciphertext\n",
    "    hh=list(hh)\n",
    "    ZZZ = np.zeros(tetaa)\n",
    "    ZZ=list(ZZZ)\n",
    "    for i in Z:\n",
    "        sumevalute = np.add(ZZ,i) \n",
    "        ZZ=sumevalute\n",
    "    C=hh\n",
    "    ZZ=list(ZZ)\n",
    "   # ZZ=[(ZZ)]\n",
    "    d=decryptin(C,S,ZZ)\n",
    "    print(\"decription SUM Multi cipertext List\",d)\n",
    "    ggg=np.zeros(n)\n",
    "    gg=list(ggg)\n",
    "    for i in m:\n",
    "        sumplaintexst=np.add(gg,i)\n",
    "        gg=sumplaintexst\n",
    "    gg=list(gg)\n",
    "    dd=[]\n",
    "    for i in gg:\n",
    "        i=i%2\n",
    "        dd.append(i)\n",
    "    print(\"SUM MUlti plaintext List\" , dd)\n",
    "    print('error', error(d,dd))"
   ]
  },
  {
   "cell_type": "markdown",
   "metadata": {},
   "source": [
    "# evalute multiplaction multi bit"
   ]
  },
  {
   "cell_type": "code",
   "execution_count": 13,
   "metadata": {},
   "outputs": [],
   "source": [
    "def multe(c,tetaa,m,Z,S):\n",
    "    m=list(m)\n",
    "    emult = np.prod(list(c))\n",
    "    emult = list(([emult]))\n",
    "    ZZZ=np.ones(tetaa)\n",
    "    ZZ=list(ZZZ)\n",
    "    for i in Z:\n",
    "        mulevalute = np.multiply(ZZ,i) \n",
    "        ZZ=mulevalute\n",
    "    ZZ=list(ZZ)\n",
    "    ZZ=[(ZZ)]\n",
    "    d= decryptin(emult,S,ZZ)\n",
    "    print(\"multe\", d)\n",
    "    mm = np.prod(list(m))\n",
    "    dd = mm%2\n",
    "    print(\"multm\",dd)"
   ]
  },
  {
   "cell_type": "markdown",
   "metadata": {},
   "source": [
    "# evalute multiplaction multi List"
   ]
  },
  {
   "cell_type": "code",
   "execution_count": 14,
   "metadata": {},
   "outputs": [],
   "source": [
    "def multilistmultiplaction(x,τ,ρρ,x_0,Y,S,tetaa):\n",
    "    k = int(input(\"Enter number of lists : \"))\n",
    "    n = int(input(\"Enter number of elements : \"))\n",
    "    m=[]\n",
    "    for i in range(0,k):\n",
    "        mmm = np.random.randint(0,2,n)\n",
    "        mm=list(mmm)\n",
    "        m.append(mm)\n",
    "    c=[]\n",
    "    Z=[]\n",
    "    for i in m:\n",
    "        j=encryption(i,x,τ,ρρ,x_0,Y)\n",
    "        cc=j[0]\n",
    "        zz=j[1]\n",
    "        c.append(cc)\n",
    "        Z.append(zz)\n",
    "    ooo=np.ones(n)\n",
    "    oo=list(ooo)\n",
    "    for i in c:\n",
    "        mulevalutecipertext = np.multiply(oo,i) \n",
    "        oo=mulevalutecipertext\n",
    "    C=list(oo)\n",
    "    ZZZ=np.ones(tetaa)\n",
    "    ZZ=list(ZZZ)\n",
    "    for i in Z:\n",
    "        mulevalute = np.multiply(ZZ,i) \n",
    "        ZZ=mulevalute\n",
    "    ZZ=list(ZZ)\n",
    "    #ZZ=[(ZZ)]\n",
    "    d= decryptin(C,S,ZZ)\n",
    "    print(\"decription multiplacton multi ciphertext\" , d)\n",
    "    uuu=np.ones(n)\n",
    "    uu=list(uuu)\n",
    "    for i in m:\n",
    "        mulevalute = np.multiply(uu,i) \n",
    "        uu=mulevalute\n",
    "    uu=list(uu)\n",
    "    dd=[]\n",
    "    for i in uu:\n",
    "        i=i%2\n",
    "        dd.append(i)\n",
    "    print(\"multiplaction MUlti plaintext List\" , dd)\n",
    "    print('error', error(d,dd))"
   ]
  },
  {
   "cell_type": "markdown",
   "metadata": {},
   "source": [
    "# SUM and MULTIPLACTON of list "
   ]
  },
  {
   "cell_type": "code",
   "execution_count": 15,
   "metadata": {},
   "outputs": [],
   "source": [
    "def summultiplaction(x,τ,ρρ,x_0,Y,S,tetaa):\n",
    "    k = int(input(\"Enter number of lists : \"))\n",
    "    n = int(input(\"Enter number of elements : \"))\n",
    "    m=[]\n",
    "    for i in range(0,k):\n",
    "        mmm = np.random.randint(0,2,n)\n",
    "        mm=list(mmm)\n",
    "        m.append(mm)\n",
    "    c=[]\n",
    "    Z=[]\n",
    "    for i in m:\n",
    "        j=encryption(i,x,τ,ρρ,x_0,Y)\n",
    "        cc=j[0]\n",
    "        zz=j[1]\n",
    "        c.append(cc)\n",
    "        Z.append(zz)\n",
    "    hhh=np.zeros(n)\n",
    "    hh=list(hhh)\n",
    "    for i in c:\n",
    "        sumciphertext=np.add(hh,i)\n",
    "        hh=sumciphertext\n",
    "    hh=list(hh)\n",
    "    ZZZ = np.zeros(tetaa)\n",
    "    ZZ=list(ZZZ)\n",
    "    for i in Z:\n",
    "        sumevalute = np.add(ZZ,i) \n",
    "        ZZ=sumevalute\n",
    "    C=hh\n",
    "    ZZ=list(ZZ)\n",
    "   #ZZ=[(ZZ)]\n",
    "    d=decryptin(C,S,ZZ)\n",
    "    print(\"decription SUM Multi cipertext List\",d)\n",
    "    ggg=np.zeros(n)\n",
    "    gg=list(ggg)\n",
    "    for i in m:\n",
    "        sumplaintexst=np.add(gg,i)\n",
    "        gg=sumplaintexst\n",
    "    gg=list(gg)\n",
    "    dd=[]\n",
    "    for i in gg:\n",
    "        i=i%2\n",
    "        dd.append(i)\n",
    "    print(\"SUM MUlti plaintext List\" , dd)\n",
    "    print('error', error(d,dd))\n",
    "    ooo=np.ones(n)\n",
    "    oo=list(ooo)\n",
    "    for i in c:\n",
    "        mulevalutecipertext = np.multiply(oo,i) \n",
    "        oo=mulevalutecipertext\n",
    "    C=list(oo)\n",
    "    ZZZ=np.ones(tetaa)\n",
    "    ZZ=list(ZZZ)\n",
    "    for i in Z:\n",
    "        mulevalute = np.multiply(ZZ,i) \n",
    "        ZZ=mulevalute\n",
    "    ZZ=list(ZZ)\n",
    "   # ZZ=[(ZZ)]\n",
    "    d= decryptin(C,S,ZZ)\n",
    "    print(\"decription multiplacton multi ciphertext\" , d)\n",
    "    uuu=np.ones(n)\n",
    "    uu=list(uuu)\n",
    "    for i in m:\n",
    "        mulevalute = np.multiply(uu,i) \n",
    "        uu=mulevalute\n",
    "    uu=list(uu)\n",
    "    dd=[]\n",
    "    for i in uu:\n",
    "        i=i%2\n",
    "        dd.append(i)\n",
    "    print(\"multiplaction MUlti plaintext List\" , dd)\n",
    "    print('error', error(d,dd))"
   ]
  },
  {
   "cell_type": "code",
   "execution_count": null,
   "metadata": {},
   "outputs": [],
   "source": []
  }
 ],
 "metadata": {
  "kernelspec": {
   "display_name": "Python 3",
   "language": "python",
   "name": "python3"
  },
  "language_info": {
   "codemirror_mode": {
    "name": "ipython",
    "version": 3
   },
   "file_extension": ".py",
   "mimetype": "text/x-python",
   "name": "python",
   "nbconvert_exporter": "python",
   "pygments_lexer": "ipython3",
   "version": "3.7.4"
  }
 },
 "nbformat": 4,
 "nbformat_minor": 2
}
